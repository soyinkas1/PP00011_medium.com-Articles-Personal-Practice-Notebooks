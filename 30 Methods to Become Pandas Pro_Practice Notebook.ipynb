{
 "cells": [
  {
   "cell_type": "markdown",
   "id": "7cb987d8",
   "metadata": {},
   "source": [
    "## Introduction \n",
    "The article writes about 30 methods in Pandas that you should master to become a pro. This notebook is for practice of all the methods and codes described in the article\n",
    "\n",
    "Article link - https://towardsdatascience.com/the-only-30-methods-you-should-master-to-become-a-pandas-pro-749795084bb2\n",
    "\n",
    "Soyinka Sowoolu\n",
    "3rd May 2023 "
   ]
  },
  {
   "cell_type": "code",
   "execution_count": null,
   "id": "f50054da",
   "metadata": {},
   "outputs": [],
   "source": []
  }
 ],
 "metadata": {
  "kernelspec": {
   "display_name": "Python 3 (ipykernel)",
   "language": "python",
   "name": "python3"
  },
  "language_info": {
   "codemirror_mode": {
    "name": "ipython",
    "version": 3
   },
   "file_extension": ".py",
   "mimetype": "text/x-python",
   "name": "python",
   "nbconvert_exporter": "python",
   "pygments_lexer": "ipython3",
   "version": "3.9.13"
  }
 },
 "nbformat": 4,
 "nbformat_minor": 5
}
