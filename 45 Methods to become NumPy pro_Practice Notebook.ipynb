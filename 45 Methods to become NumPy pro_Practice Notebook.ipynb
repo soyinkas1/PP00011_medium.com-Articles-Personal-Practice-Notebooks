{
 "cells": [
  {
   "cell_type": "markdown",
   "id": "7bd607d5",
   "metadata": {},
   "source": [
    "## Introduction \n",
    "The article writes about 45 methods in NumPy that you should master to become a pro. This notebook is for practice of all the methods and codes described in the article\n",
    "\n",
    "Article link - https://medium.com/geekculture/the-only-45-methods-you-should-master-to-become-a-numpy-pro-6ea77a8638a6\n",
    "\n",
    "Soyinka Sowoolu\n",
    "29th April 2023 "
   ]
  },
  {
   "cell_type": "code",
   "execution_count": 1,
   "id": "34c43c73",
   "metadata": {},
   "outputs": [],
   "source": [
    "# Import the NumPy library and Pandas as well\n",
    "import numpy as np\n",
    "import pandas as pd "
   ]
  },
  {
   "cell_type": "markdown",
   "id": "0f693721",
   "metadata": {},
   "source": [
    "### (1-10) NumPy array creation methods "
   ]
  },
  {
   "cell_type": "markdown",
   "id": "5377aaaf",
   "metadata": {},
   "source": [
    "**#1  NumPy array from a python list**"
   ]
  },
  {
   "cell_type": "code",
   "execution_count": 2,
   "id": "2683bad7",
   "metadata": {},
   "outputs": [
    {
     "data": {
      "text/plain": [
       "array([1, 2, 3])"
      ]
     },
     "execution_count": 2,
     "metadata": {},
     "output_type": "execute_result"
    }
   ],
   "source": [
    "# Using the 'np.array()' method\n",
    "a = [1, 2, 3]\n",
    "np.array(a)"
   ]
  },
  {
   "cell_type": "code",
   "execution_count": 4,
   "id": "ba9c3ba9",
   "metadata": {},
   "outputs": [
    {
     "data": {
      "text/plain": [
       "numpy.ndarray"
      ]
     },
     "execution_count": 4,
     "metadata": {},
     "output_type": "execute_result"
    }
   ],
   "source": [
    "# We can verify the datatype using the 'type()' method in python\n",
    "type(np.array(a))"
   ]
  },
  {
   "cell_type": "code",
   "execution_count": 5,
   "id": "b981bbf2",
   "metadata": {},
   "outputs": [
    {
     "data": {
      "text/plain": [
       "array([[1, 2, 3],\n",
       "       [3, 5, 6]])"
      ]
     },
     "execution_count": 5,
     "metadata": {},
     "output_type": "execute_result"
    }
   ],
   "source": [
    "# We can create a multi-dimensional array using a list of list e.g. 2 -dimensions as below\n",
    "a = [[1, 2, 3], [3, 5, 6]]\n",
    "np.array(a)"
   ]
  },
  {
   "cell_type": "code",
   "execution_count": 6,
   "id": "cbf4434e",
   "metadata": {},
   "outputs": [
    {
     "data": {
      "text/plain": [
       "numpy.ndarray"
      ]
     },
     "execution_count": 6,
     "metadata": {},
     "output_type": "execute_result"
    }
   ],
   "source": [
    "type(np.array(a))"
   ]
  },
  {
   "cell_type": "code",
   "execution_count": 7,
   "id": "6159ec69",
   "metadata": {},
   "outputs": [
    {
     "data": {
      "text/plain": [
       "array([[1., 2., 3.],\n",
       "       [4., 6., 9.]], dtype=float32)"
      ]
     },
     "execution_count": 7,
     "metadata": {},
     "output_type": "execute_result"
    }
   ],
   "source": [
    "# To create a NumPy array of a specific type , pass the dtype argument\n",
    "a = [[1, 2 ,3], [4,6,9]]\n",
    "np.array(a,dtype = np.float32)"
   ]
  },
  {
   "cell_type": "markdown",
   "id": "b8ff3332",
   "metadata": {},
   "source": [
    "**#2 Create a NumPy array of Zeros**"
   ]
  },
  {
   "cell_type": "code",
   "execution_count": 8,
   "id": "0d263390",
   "metadata": {},
   "outputs": [
    {
     "data": {
      "text/plain": [
       "array([0., 0., 0., 0., 0.])"
      ]
     },
     "execution_count": 8,
     "metadata": {},
     "output_type": "execute_result"
    }
   ],
   "source": [
    "# This is done with the 'np.zeros()' method\n",
    "np.zeros(5)\n"
   ]
  },
  {
   "cell_type": "code",
   "execution_count": 13,
   "id": "cb0ca5a0",
   "metadata": {},
   "outputs": [
    {
     "data": {
      "text/plain": [
       "array([[0., 0., 0., 0., 0., 0., 0., 0., 0.],\n",
       "       [0., 0., 0., 0., 0., 0., 0., 0., 0.],\n",
       "       [0., 0., 0., 0., 0., 0., 0., 0., 0.]])"
      ]
     },
     "execution_count": 13,
     "metadata": {},
     "output_type": "execute_result"
    }
   ],
   "source": [
    "# For multi-dimensional zeros array\n",
    "np.zeros((3,9)) # not using a tuple will give a data type error"
   ]
  },
  {
   "cell_type": "markdown",
   "id": "7d0d352a",
   "metadata": {},
   "source": [
    "**#3 Create a NumPy array of ones**"
   ]
  },
  {
   "cell_type": "code",
   "execution_count": 14,
   "id": "ea3b6d5e",
   "metadata": {},
   "outputs": [
    {
     "data": {
      "text/plain": [
       "array([1., 1., 1., 1.])"
      ]
     },
     "execution_count": 14,
     "metadata": {},
     "output_type": "execute_result"
    }
   ],
   "source": [
    "# This is done with the 'np.ones()' method\n",
    "np.ones(4)"
   ]
  },
  {
   "cell_type": "code",
   "execution_count": 16,
   "id": "053f6ee2",
   "metadata": {},
   "outputs": [
    {
     "data": {
      "text/plain": [
       "array([[[1., 1., 1., 1., 1., 1., 1.],\n",
       "        [1., 1., 1., 1., 1., 1., 1.],\n",
       "        [1., 1., 1., 1., 1., 1., 1.],\n",
       "        [1., 1., 1., 1., 1., 1., 1.],\n",
       "        [1., 1., 1., 1., 1., 1., 1.],\n",
       "        [1., 1., 1., 1., 1., 1., 1.]],\n",
       "\n",
       "       [[1., 1., 1., 1., 1., 1., 1.],\n",
       "        [1., 1., 1., 1., 1., 1., 1.],\n",
       "        [1., 1., 1., 1., 1., 1., 1.],\n",
       "        [1., 1., 1., 1., 1., 1., 1.],\n",
       "        [1., 1., 1., 1., 1., 1., 1.],\n",
       "        [1., 1., 1., 1., 1., 1., 1.]],\n",
       "\n",
       "       [[1., 1., 1., 1., 1., 1., 1.],\n",
       "        [1., 1., 1., 1., 1., 1., 1.],\n",
       "        [1., 1., 1., 1., 1., 1., 1.],\n",
       "        [1., 1., 1., 1., 1., 1., 1.],\n",
       "        [1., 1., 1., 1., 1., 1., 1.],\n",
       "        [1., 1., 1., 1., 1., 1., 1.]],\n",
       "\n",
       "       [[1., 1., 1., 1., 1., 1., 1.],\n",
       "        [1., 1., 1., 1., 1., 1., 1.],\n",
       "        [1., 1., 1., 1., 1., 1., 1.],\n",
       "        [1., 1., 1., 1., 1., 1., 1.],\n",
       "        [1., 1., 1., 1., 1., 1., 1.],\n",
       "        [1., 1., 1., 1., 1., 1., 1.]]])"
      ]
     },
     "execution_count": 16,
     "metadata": {},
     "output_type": "execute_result"
    }
   ],
   "source": [
    "# For multi-dimensional array pass a tuple of the array shape e.g. 3-D\n",
    "np.ones((4,6,7))"
   ]
  },
  {
   "cell_type": "markdown",
   "id": "8f0cb68f",
   "metadata": {},
   "source": [
    "**#4 Create an identity Numpy Array**"
   ]
  },
  {
   "cell_type": "code",
   "execution_count": 17,
   "id": "e728e269",
   "metadata": {},
   "outputs": [
    {
     "data": {
      "text/plain": [
       "array([[1., 0., 0., 0., 0.],\n",
       "       [0., 1., 0., 0., 0.],\n",
       "       [0., 0., 1., 0., 0.],\n",
       "       [0., 0., 0., 1., 0.],\n",
       "       [0., 0., 0., 0., 1.]])"
      ]
     },
     "execution_count": 17,
     "metadata": {},
     "output_type": "execute_result"
    }
   ],
   "source": [
    "# This is an array where '1' are on the diagonal and others filled with '0' \n",
    "\n",
    "# This is done using the 'np.eye()' method\n",
    "np.eye(5)"
   ]
  },
  {
   "cell_type": "markdown",
   "id": "6762ef30",
   "metadata": {},
   "source": [
    "**#5 Create an equally spaced array with a specific step skipped**"
   ]
  },
  {
   "cell_type": "code",
   "execution_count": 18,
   "id": "5ee095d1",
   "metadata": {},
   "outputs": [
    {
     "data": {
      "text/plain": [
       "array([ 0,  1,  2,  3,  4,  5,  6,  7,  8,  9, 10])"
      ]
     },
     "execution_count": 18,
     "metadata": {},
     "output_type": "execute_result"
    }
   ],
   "source": [
    "# This is created using the 'np.arange()' method\n",
    "# Generate values from 0 -10 with 1 step\n",
    "np.arange(0, 11, 1)"
   ]
  },
  {
   "cell_type": "code",
   "execution_count": 19,
   "id": "542bb184",
   "metadata": {},
   "outputs": [
    {
     "data": {
      "text/plain": [
       "array([0, 1, 2, 3, 4, 5, 6, 7, 8, 9])"
      ]
     },
     "execution_count": 19,
     "metadata": {},
     "output_type": "execute_result"
    }
   ],
   "source": [
    "# Generate without starting start point (defaults from 0 and steps 1)\n",
    "np.arange(10)"
   ]
  },
  {
   "cell_type": "code",
   "execution_count": 20,
   "id": "e2909c78",
   "metadata": {},
   "outputs": [
    {
     "data": {
      "text/plain": [
       "array([5, 7, 9])"
      ]
     },
     "execution_count": 20,
     "metadata": {},
     "output_type": "execute_result"
    }
   ],
   "source": [
    "# Generate from 5-11 step 2\n",
    "np.arange(5, 11, 2)"
   ]
  },
  {
   "cell_type": "markdown",
   "id": "264ae264",
   "metadata": {},
   "source": [
    "**#6 Create an equally spaced array with a specific array size**"
   ]
  },
  {
   "cell_type": "code",
   "execution_count": 21,
   "id": "f6537afc",
   "metadata": {},
   "outputs": [
    {
     "data": {
      "text/plain": [
       "array([ 2.        ,  4.55555556,  7.11111111,  9.66666667, 12.22222222,\n",
       "       14.77777778, 17.33333333, 19.88888889, 22.44444444, 25.        ])"
      ]
     },
     "execution_count": 21,
     "metadata": {},
     "output_type": "execute_result"
    }
   ],
   "source": [
    "# Generate n-nums (items) equally spaced within the interval defined using 'np.linspace(start=x, stop =y, num = n)'\n",
    "np.linspace(2, 25, 10)"
   ]
  },
  {
   "cell_type": "markdown",
   "id": "00687b33",
   "metadata": {},
   "source": [
    "**#7-8 Create a random NumPy array**"
   ]
  },
  {
   "cell_type": "code",
   "execution_count": 23,
   "id": "54bf2486",
   "metadata": {},
   "outputs": [
    {
     "data": {
      "text/plain": [
       "(array([10, 13,  9, 13, 15]), array([21,  9, 11, 36]))"
      ]
     },
     "execution_count": 23,
     "metadata": {},
     "output_type": "execute_result"
    }
   ],
   "source": [
    "# Generate random array of integers\n",
    "np.random.randint(low=5, high=16, size=5),np.random.randint(low=3, high=46, size=4)"
   ]
  },
  {
   "cell_type": "code",
   "execution_count": 27,
   "id": "ee339a87",
   "metadata": {},
   "outputs": [
    {
     "data": {
      "text/plain": [
       "(array([0.15665669, 0.30359795, 0.61163921, 0.09512638, 0.67814708,\n",
       "        0.45858923, 0.54702845, 0.81591304, 0.82327313, 0.90317709]),\n",
       " array([0.161783  , 0.28628223, 0.24013038, 0.80937222, 0.31845944,\n",
       "        0.73119905, 0.47942951]))"
      ]
     },
     "execution_count": 27,
     "metadata": {},
     "output_type": "execute_result"
    }
   ],
   "source": [
    "# Generate a random float sample\n",
    "np.random.random(size = 10),np.random.random(7) # takes only one positional argument"
   ]
  },
  {
   "cell_type": "markdown",
   "id": "f1603512",
   "metadata": {},
   "source": [
    "**#9-10 Generate NumPy array from Pandas Series**\n"
   ]
  },
  {
   "cell_type": "code",
   "execution_count": 30,
   "id": "1477f1b7",
   "metadata": {},
   "outputs": [
    {
     "data": {
      "text/plain": [
       "array([1, 2, 3, 4, 5], dtype=int64)"
      ]
     },
     "execution_count": 30,
     "metadata": {},
     "output_type": "execute_result"
    }
   ],
   "source": [
    "# This can be done two ways. 1. using 'np.array()' 2. using 'np.asarray()'\n",
    "s =pd.Series([1, 2, 3, 4, 5], name = 'col')\n",
    "# method 1\n",
    "np.array(s)\n"
   ]
  },
  {
   "cell_type": "code",
   "execution_count": 29,
   "id": "0e6445f1",
   "metadata": {},
   "outputs": [
    {
     "data": {
      "text/plain": [
       "array([1, 2, 3, 4, 5], dtype=int64)"
      ]
     },
     "execution_count": 29,
     "metadata": {},
     "output_type": "execute_result"
    }
   ],
   "source": [
    "# method 2 \n",
    "np.asarray(s)"
   ]
  },
  {
   "cell_type": "markdown",
   "id": "e79a63fa",
   "metadata": {},
   "source": [
    "### (11-21) NumPy array Manipulation methods "
   ]
  },
  {
   "cell_type": "markdown",
   "id": "fb79ac58",
   "metadata": {},
   "source": [
    "**#11 Shape of the NumPy array**"
   ]
  },
  {
   "cell_type": "code",
   "execution_count": 38,
   "id": "7b2d42bb",
   "metadata": {},
   "outputs": [
    {
     "name": "stdout",
     "output_type": "stream",
     "text": [
      "The shape of the array- method 1 (2, 3)\n",
      "The shape of the array- method 2 (2, 3)\n"
     ]
    }
   ],
   "source": [
    "# To determine the shape use 'np.shape()' method or the 'shape attribute of the ndarray'\n",
    "a = np.ones((2,3))\n",
    "print(f'The shape of the array- method 1 {np.shape(a)}')\n",
    "print(f'The shape of the array- method 2 {a.shape}')"
   ]
  },
  {
   "cell_type": "markdown",
   "id": "5b42a58b",
   "metadata": {},
   "source": [
    "**#12 Reshape the NumPy array**"
   ]
  },
  {
   "cell_type": "code",
   "execution_count": 40,
   "id": "1c62b3c1",
   "metadata": {},
   "outputs": [
    {
     "data": {
      "text/plain": [
       "array([0, 1, 2, 3, 4, 5, 6, 7, 8, 9])"
      ]
     },
     "execution_count": 40,
     "metadata": {},
     "output_type": "execute_result"
    }
   ],
   "source": [
    "# This is giving a new shape to the array without altering its contents\n",
    "# This is done using the 'np.reshape()' method\n",
    "a = np.arange(10)\n",
    "a"
   ]
  },
  {
   "cell_type": "code",
   "execution_count": 43,
   "id": "e0f37a7d",
   "metadata": {},
   "outputs": [
    {
     "data": {
      "text/plain": [
       "array([[0, 1, 2, 3, 4],\n",
       "       [5, 6, 7, 8, 9]])"
      ]
     },
     "execution_count": 43,
     "metadata": {},
     "output_type": "execute_result"
    }
   ],
   "source": [
    "a.reshape(2,5)"
   ]
  },
  {
   "cell_type": "markdown",
   "id": "b51f3f18",
   "metadata": {},
   "source": [
    "**#13 -14 Transpose the NumPy Array**"
   ]
  },
  {
   "cell_type": "code",
   "execution_count": 45,
   "id": "2179a286",
   "metadata": {},
   "outputs": [
    {
     "data": {
      "text/plain": [
       "array([[ 0,  1],\n",
       "       [ 2,  3],\n",
       "       [ 4,  5],\n",
       "       [ 6,  7],\n",
       "       [ 8,  9],\n",
       "       [10, 11]])"
      ]
     },
     "execution_count": 45,
     "metadata": {},
     "output_type": "execute_result"
    }
   ],
   "source": [
    "# Tranposing an array (turning the rows to columns) is done using 'np.transpose()' or 'ndarray.T' \n",
    "a = np.arange(12).reshape(6,2)\n",
    "a"
   ]
  },
  {
   "cell_type": "code",
   "execution_count": 46,
   "id": "ea75dff5",
   "metadata": {},
   "outputs": [
    {
     "data": {
      "text/plain": [
       "array([[ 0,  2,  4,  6,  8, 10],\n",
       "       [ 1,  3,  5,  7,  9, 11]])"
      ]
     },
     "execution_count": 46,
     "metadata": {},
     "output_type": "execute_result"
    }
   ],
   "source": [
    "# method 1\n",
    "np.transpose(a)"
   ]
  },
  {
   "cell_type": "code",
   "execution_count": 47,
   "id": "46e64cde",
   "metadata": {},
   "outputs": [
    {
     "data": {
      "text/plain": [
       "array([[ 0,  2,  4,  6,  8, 10],\n",
       "       [ 1,  3,  5,  7,  9, 11]])"
      ]
     },
     "execution_count": 47,
     "metadata": {},
     "output_type": "execute_result"
    }
   ],
   "source": [
    "# method 2\n",
    "a.T"
   ]
  },
  {
   "cell_type": "markdown",
   "id": "92a5bb41",
   "metadata": {},
   "source": [
    "**#15-17 Concatenate multiple NumPy arrays to form one NumPy array**"
   ]
  },
  {
   "cell_type": "code",
   "execution_count": 50,
   "id": "bcc5d297",
   "metadata": {},
   "outputs": [
    {
     "data": {
      "text/plain": [
       "array([[1, 2],\n",
       "       [3, 4],\n",
       "       [5, 6]])"
      ]
     },
     "execution_count": 50,
     "metadata": {},
     "output_type": "execute_result"
    }
   ],
   "source": [
    "# You use the 'np.concatenate()' method to join sequence of arrays and obtain new array\n",
    "# Concatenate row-wise\n",
    "a = np.array([[1, 2],[3, 4]])\n",
    "b = np.array([[5, 6]])\n",
    "np.concatenate((a, b), axis =0)"
   ]
  },
  {
   "cell_type": "code",
   "execution_count": 53,
   "id": "6fe7004e",
   "metadata": {},
   "outputs": [
    {
     "data": {
      "text/plain": [
       "array([[5, 6]])"
      ]
     },
     "execution_count": 53,
     "metadata": {},
     "output_type": "execute_result"
    }
   ],
   "source": [
    "b # We will need to transpose for the next operation"
   ]
  },
  {
   "cell_type": "code",
   "execution_count": 52,
   "id": "cb81879a",
   "metadata": {},
   "outputs": [
    {
     "data": {
      "text/plain": [
       "array([[1, 2, 5],\n",
       "       [3, 4, 6]])"
      ]
     },
     "execution_count": 52,
     "metadata": {},
     "output_type": "execute_result"
    }
   ],
   "source": [
    "# Concatenate column-wise\n",
    "np.concatenate((a,b.T),axis=1)"
   ]
  },
  {
   "cell_type": "code",
   "execution_count": 56,
   "id": "229fd6b3",
   "metadata": {},
   "outputs": [
    {
     "data": {
      "text/plain": [
       "array([1, 2, 3, 4, 5, 6])"
      ]
     },
     "execution_count": 56,
     "metadata": {},
     "output_type": "execute_result"
    }
   ],
   "source": [
    "# Concatenate to generate a flat NumPy array\n",
    "np.concatenate((a,b),axis=None) "
   ]
  },
  {
   "cell_type": "markdown",
   "id": "98f858d7",
   "metadata": {},
   "source": [
    "**#18 Flatten NumPy Array**"
   ]
  },
  {
   "cell_type": "code",
   "execution_count": 58,
   "id": "dae99789",
   "metadata": {},
   "outputs": [
    {
     "data": {
      "text/plain": [
       "(array([[1, 2],\n",
       "        [4, 8]]),\n",
       " array([1, 2, 4, 8]))"
      ]
     },
     "execution_count": 58,
     "metadata": {},
     "output_type": "execute_result"
    }
   ],
   "source": [
    "# You can collapse the NumPy array into a single dimension using 'ndarray.flatten()'\n",
    "a = np.array([[1, 2],[4, 8]])\n",
    "a, a.flatten()"
   ]
  },
  {
   "cell_type": "markdown",
   "id": "9a5bac36",
   "metadata": {},
   "source": [
    "**#19 Unique elements of a NumPy Array**"
   ]
  },
  {
   "cell_type": "code",
   "execution_count": 60,
   "id": "0cc14993",
   "metadata": {},
   "outputs": [
    {
     "data": {
      "text/plain": [
       "array([3, 4, 8])"
      ]
     },
     "execution_count": 60,
     "metadata": {},
     "output_type": "execute_result"
    }
   ],
   "source": [
    "# Use the 'np.unique()' method\n",
    "a = np.array([[3, 4],[3, 8],[8, 4]])\n",
    "np.unique(a)"
   ]
  },
  {
   "cell_type": "code",
   "execution_count": 61,
   "id": "fd3ed483",
   "metadata": {},
   "outputs": [
    {
     "data": {
      "text/plain": [
       "array([[3, 4],\n",
       "       [3, 8],\n",
       "       [8, 4]])"
      ]
     },
     "execution_count": 61,
     "metadata": {},
     "output_type": "execute_result"
    }
   ],
   "source": [
    "a"
   ]
  },
  {
   "cell_type": "code",
   "execution_count": 69,
   "id": "5144bd2c",
   "metadata": {
    "scrolled": true
   },
   "outputs": [
    {
     "data": {
      "text/plain": [
       "array([[1, 1, 3],\n",
       "       [1, 1, 3],\n",
       "       [2, 2, 3]])"
      ]
     },
     "execution_count": 69,
     "metadata": {},
     "output_type": "execute_result"
    }
   ],
   "source": [
    "b"
   ]
  },
  {
   "cell_type": "code",
   "execution_count": 67,
   "id": "48485aec",
   "metadata": {},
   "outputs": [
    {
     "data": {
      "text/plain": [
       "array([[1, 1, 3],\n",
       "       [2, 2, 3]])"
      ]
     },
     "execution_count": 67,
     "metadata": {},
     "output_type": "execute_result"
    }
   ],
   "source": [
    "# unique rows\n",
    "b = np.array([[1, 1, 3], [1, 1, 3], [2, 2, 3]])\n",
    "np.unique(b,axis=0)"
   ]
  },
  {
   "cell_type": "code",
   "execution_count": 68,
   "id": "33af52cb",
   "metadata": {},
   "outputs": [
    {
     "data": {
      "text/plain": [
       "array([[1, 3],\n",
       "       [1, 3],\n",
       "       [2, 3]])"
      ]
     },
     "execution_count": 68,
     "metadata": {},
     "output_type": "execute_result"
    }
   ],
   "source": [
    "# Unique columns\n",
    "np.unique(b,axis=1)"
   ]
  },
  {
   "cell_type": "code",
   "execution_count": null,
   "id": "ee975b4c",
   "metadata": {},
   "outputs": [],
   "source": []
  }
 ],
 "metadata": {
  "kernelspec": {
   "display_name": "Python 3 (ipykernel)",
   "language": "python",
   "name": "python3"
  },
  "language_info": {
   "codemirror_mode": {
    "name": "ipython",
    "version": 3
   },
   "file_extension": ".py",
   "mimetype": "text/x-python",
   "name": "python",
   "nbconvert_exporter": "python",
   "pygments_lexer": "ipython3",
   "version": "3.9.13"
  }
 },
 "nbformat": 4,
 "nbformat_minor": 5
}
